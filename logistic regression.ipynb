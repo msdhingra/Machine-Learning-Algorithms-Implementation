{
 "cells": [
  {
   "cell_type": "code",
   "execution_count": 1,
   "metadata": {},
   "outputs": [],
   "source": [
    "import numpy as np\n",
    "import math\n",
    "att=2\n",
    "n=1000\n",
    "x=np.random.rand(n,att)\n",
    "x1=np.ones(n).reshape(n,1)\n",
    "x_final=np.append(x1,x,axis=1)\n",
    "noise=np.random.randn(n,1)\n",
    "y=np.ones((n,1))\n",
    "beta=np.random.rand(att+1,1)\n",
    "z0=np.dot(x_final,beta)+noise"
   ]
  },
  {
   "cell_type": "code",
   "execution_count": 2,
   "metadata": {},
   "outputs": [
    {
     "data": {
      "text/plain": [
       "(1000, 1)"
      ]
     },
     "execution_count": 2,
     "metadata": {},
     "output_type": "execute_result"
    }
   ],
   "source": [
    "e_z0=np.exp(-z0)\n",
    "for i in range(len(z0)):\n",
    "    y[i]=1/(1+e_z0[i])\n",
    "y=np.round(y)\n",
    "y.shape"
   ]
  },
  {
   "cell_type": "code",
   "execution_count": 3,
   "metadata": {},
   "outputs": [],
   "source": [
    "beta=np.random.rand(att+1,1)\n",
    "one_minus_y=x1-y\n",
    "z=np.dot(x_final,beta)\n",
    "#beta.shape\n",
    "#x_final.shape"
   ]
  },
  {
   "cell_type": "code",
   "execution_count": 4,
   "metadata": {},
   "outputs": [
    {
     "name": "stdout",
     "output_type": "stream",
     "text": [
      "0.5192825282455783\n"
     ]
    }
   ],
   "source": [
    "for i in range(1000):\n",
    "    y_hat=np.ones((n,1))\n",
    "    e_z=np.exp(-z)\n",
    "    for i in range(len(e_z)):\n",
    "        y_hat[i]=1/(1+e_z[i])\n",
    "    one_minus_y_hat=x1-y_hat\n",
    "    derivative=(np.dot(np.transpose(x1),y-y_hat))/n\n",
    "    beta=beta+0.1*derivative\n",
    "    max_log_likelihood= -(y*np.log(y_hat)+one_minus_y*np.log(one_minus_y_hat))\n",
    "    z=np.dot(x_final,beta)\n",
    "print(np.mean(max_log_likelihood))"
   ]
  },
  {
   "cell_type": "code",
   "execution_count": 5,
   "metadata": {},
   "outputs": [
    {
     "data": {
      "text/plain": [
       "array([[0.85672927],\n",
       "       [0.19703055],\n",
       "       [0.65446505]])"
      ]
     },
     "execution_count": 5,
     "metadata": {},
     "output_type": "execute_result"
    }
   ],
   "source": [
    "beta"
   ]
  },
  {
   "cell_type": "code",
   "execution_count": 6,
   "metadata": {},
   "outputs": [
    {
     "name": "stdout",
     "output_type": "stream",
     "text": [
      "Intercept is [0.76949217]\n",
      "Other betas are[[-0.08596735  1.15749629]]\n",
      "Max log likelihood is 0.5165034499038689\n"
     ]
    }
   ],
   "source": [
    "from sklearn.linear_model import LogisticRegression\n",
    "from sklearn.metrics import log_loss\n",
    "logmodel=LogisticRegression(random_state=0)\n",
    "y=y.ravel().astype(int)\n",
    "logmodel.fit(x,y)\n",
    "y_p=logmodel.predict_proba(x)\n",
    "print(f\"Intercept is {logmodel.intercept_}\")             \n",
    "print(f\"Other betas are{logmodel.coef_}\")\n",
    "print(f\"Max log likelihood is {log_loss(y,y_p)}\")"
   ]
  },
  {
   "cell_type": "code",
   "execution_count": 7,
   "metadata": {},
   "outputs": [
    {
     "data": {
      "text/plain": [
       "(1000, 2)"
      ]
     },
     "execution_count": 7,
     "metadata": {},
     "output_type": "execute_result"
    }
   ],
   "source": [
    "x.shape"
   ]
  },
  {
   "cell_type": "code",
   "execution_count": 8,
   "metadata": {},
   "outputs": [
    {
     "data": {
      "text/plain": [
       "(1000, 2)"
      ]
     },
     "execution_count": 8,
     "metadata": {},
     "output_type": "execute_result"
    }
   ],
   "source": [
    "y_p.shape"
   ]
  }
 ],
 "metadata": {
  "kernelspec": {
   "display_name": "Python 3",
   "language": "python",
   "name": "python3"
  },
  "language_info": {
   "codemirror_mode": {
    "name": "ipython",
    "version": 3
   },
   "file_extension": ".py",
   "mimetype": "text/x-python",
   "name": "python",
   "nbconvert_exporter": "python",
   "pygments_lexer": "ipython3",
   "version": "3.6.5"
  }
 },
 "nbformat": 4,
 "nbformat_minor": 2
}
