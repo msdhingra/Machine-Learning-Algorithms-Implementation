{
 "cells": [
  {
   "cell_type": "code",
   "execution_count": 1,
   "metadata": {},
   "outputs": [],
   "source": [
    "import numpy as np\n",
    "import matplotlib.pyplot as plt\n",
    "%matplotlib inline"
   ]
  },
  {
   "cell_type": "code",
   "execution_count": 2,
   "metadata": {},
   "outputs": [
    {
     "name": "stdout",
     "output_type": "stream",
     "text": [
      "(1000, 3)\n",
      "(1000, 1)\n",
      "(1000, 1)\n",
      "(3, 1)\n"
     ]
    }
   ],
   "source": [
    "att=2\n",
    "n=1000\n",
    "x=np.random.rand(n,att)\n",
    "x1=np.ones(n).reshape(n,1)\n",
    "input_data=np.append(x1,x,axis=1)\n",
    "beta=np.random.rand(att+1,1)\n",
    "noise=np.random.randn(n,1)\n",
    "y_data=np.dot(input_data,beta)\n",
    "y=y_data+noise\n",
    "print(input_data.shape)\n",
    "print(y.shape)\n",
    "print(noise.shape)\n",
    "print(beta.shape)"
   ]
  },
  {
   "cell_type": "code",
   "execution_count": 3,
   "metadata": {},
   "outputs": [
    {
     "data": {
      "text/plain": [
       "(3, 1)"
      ]
     },
     "execution_count": 3,
     "metadata": {},
     "output_type": "execute_result"
    }
   ],
   "source": [
    "new_beta=np.random.rand(att+1,1)\n",
    "new_beta.shape"
   ]
  },
  {
   "cell_type": "code",
   "execution_count": 4,
   "metadata": {},
   "outputs": [
    {
     "name": "stdout",
     "output_type": "stream",
     "text": [
      "0.981149457150276\n",
      "[[1.03071212]\n",
      " [0.01370096]\n",
      " [0.89944687]]\n"
     ]
    }
   ],
   "source": [
    "for i in range(10000):\n",
    "    \n",
    "    y_hat=np.dot(input_data,new_beta)\n",
    "    y_diff=y-y_hat\n",
    "    y_eqn=-2*(np.transpose(y_diff))\n",
    "    der=np.dot(y_eqn,input_data)/n\n",
    "    #print (der)\n",
    "    new_beta=(new_beta)-0.1*(der.T)\n",
    "    y_square=np.square(y_diff)\n",
    "    cost_value=np.sum(y_square)/n\n",
    "    #cost_array.append(cost value)\n",
    "print(cost_value)\n",
    "print(new_beta)    \n",
    "\n",
    "\n",
    "\n",
    "#if cost_array[i-1]-cost_array[i]<0.000001:\n",
    "#    #print(cost_array[i-1],cost_array[i])\n",
    "#   break\n",
    "#print(input_data.shape)"
   ]
  },
  {
   "cell_type": "code",
   "execution_count": 5,
   "metadata": {},
   "outputs": [
    {
     "name": "stdout",
     "output_type": "stream",
     "text": [
      "Coefficients: \n",
      " [[0.01370096 0.89944687]]\n",
      "Intercept: \n",
      " [1.03071212]\n",
      "Mean squared error: 0.98\n"
     ]
    }
   ],
   "source": [
    "# Verify result by using linear regression as implmented in sklearn\n",
    "from sklearn import datasets, linear_model\n",
    "from sklearn.metrics import mean_squared_error, r2_score\n",
    "regr = linear_model.LinearRegression()\n",
    "input_data = x\n",
    "# Train the model using the training sets\n",
    "regr.fit(input_data, y)\n",
    "# Make predictions using the testing set\n",
    "y_hat = regr.predict(input_data)\n",
    "# The coefficients and intercept\n",
    "print('Coefficients: \\n', regr.coef_)\n",
    "print('Intercept: \\n', regr.intercept_)\n",
    "# The mean squared error\n",
    "print(\"Mean squared error: %.2f\" % mean_squared_error(y, y_hat))\n",
    "\n",
    "    "
   ]
  },
  {
   "cell_type": "code",
   "execution_count": 6,
   "metadata": {},
   "outputs": [],
   "source": [
    "#OR"
   ]
  },
  {
   "cell_type": "code",
   "execution_count": 7,
   "metadata": {},
   "outputs": [
    {
     "data": {
      "text/plain": [
       "LinearRegression(copy_X=True, fit_intercept=True, n_jobs=1, normalize=False)"
      ]
     },
     "execution_count": 7,
     "metadata": {},
     "output_type": "execute_result"
    }
   ],
   "source": [
    "from sklearn.linear_model import LinearRegression\n",
    "regressor= LinearRegression()\n",
    "regressor.fit(input_data,y)"
   ]
  },
  {
   "cell_type": "code",
   "execution_count": 8,
   "metadata": {},
   "outputs": [],
   "source": [
    "y_pred=regressor.predict(x)"
   ]
  },
  {
   "cell_type": "code",
   "execution_count": 9,
   "metadata": {},
   "outputs": [
    {
     "data": {
      "text/plain": [
       "array([[0.01370096, 0.89944687]])"
      ]
     },
     "execution_count": 9,
     "metadata": {},
     "output_type": "execute_result"
    }
   ],
   "source": [
    "regressor.coef_"
   ]
  },
  {
   "cell_type": "code",
   "execution_count": 10,
   "metadata": {},
   "outputs": [
    {
     "data": {
      "text/plain": [
       "array([1.03071212])"
      ]
     },
     "execution_count": 10,
     "metadata": {},
     "output_type": "execute_result"
    }
   ],
   "source": [
    "regressor.intercept_"
   ]
  },
  {
   "cell_type": "code",
   "execution_count": 11,
   "metadata": {},
   "outputs": [
    {
     "data": {
      "text/plain": [
       "0.981149457150276"
      ]
     },
     "execution_count": 11,
     "metadata": {},
     "output_type": "execute_result"
    }
   ],
   "source": [
    "import sklearn\n",
    "sklearn.metrics.mean_squared_error(y,y_pred)"
   ]
  }
 ],
 "metadata": {
  "kernelspec": {
   "display_name": "Python 3",
   "language": "python",
   "name": "python3"
  },
  "language_info": {
   "codemirror_mode": {
    "name": "ipython",
    "version": 3
   },
   "file_extension": ".py",
   "mimetype": "text/x-python",
   "name": "python",
   "nbconvert_exporter": "python",
   "pygments_lexer": "ipython3",
   "version": "3.6.5"
  }
 },
 "nbformat": 4,
 "nbformat_minor": 2
}
